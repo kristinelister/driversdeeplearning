{
 "cells": [
  {
   "cell_type": "code",
   "execution_count": 1,
   "metadata": {},
   "outputs": [],
   "source": [
    "import pandas as pd\n",
    "import numpy as np\n",
    "import geopandas as gpd\n",
    "from shapely import wkt\n",
    "import glob\n",
    "from osgeo import gdal, ogr\n",
    "#import \n",
    "import os\n",
    "import matplotlib.pyplot as plt\n"
   ]
  },
  {
   "cell_type": "code",
   "execution_count": 2,
   "metadata": {},
   "outputs": [
    {
     "name": "stdout",
     "output_type": "stream",
     "text": [
      "['In progress' None 'Forest products' 'Fires' 'Other disturbances'\n",
      " 'Hard commodities' 'Soft commodities' 'Hansen mistake'\n",
      " 'Settlements/infrastructure' \"Don't know\"]\n"
     ]
    }
   ],
   "source": [
    "#Load samples and plots\n",
    "samples = gpd.read_file('../inputs/plots/samples.shp')\n",
    "#plots = gpd.read_file('plots/plots.shp')\n",
    "\n",
    "temporarySampleFile = '../inputs/plots/tempLabeledSamples.shp'\n",
    "\n",
    "labeledSampleFile = '../inputs/plots/labeledSamples.shp'\n",
    "\n",
    "#Define column with label\n",
    "labelColumn = 'What is th'\n",
    "\n",
    "#Define classes and codes\n",
    "classes = ['Hard commodities', 'Forest products', 'Other disturbances',\n",
    "                'Soft commodities', 'Settlements/infrastructure', 'Fires','Hansen mistake']\n",
    "classValues = [1,2,3,4,5,6,7]\n",
    "classDict = dict(zip(classes,classValues))\n",
    "\n",
    "samples['Driver'] = samples[labelColumn]\n",
    "\n",
    "print(samples.Driver.unique())"
   ]
  },
  {
   "cell_type": "code",
   "execution_count": 3,
   "metadata": {},
   "outputs": [
    {
     "name": "stdout",
     "output_type": "stream",
     "text": [
      "In progress plots [  1 299 339 407 427 471 579]\n",
      "Labeled plot ids [  9  11  19  23  27  35  51  55  63  67  71  79  95  99 107 111 119 127\n",
      " 137 143 155 159 163 171 183 187 199 203 211 223 227 235 239 255 267 271\n",
      " 279 283 311 315 323 327 351 355 363 365 371 379 391 395 411 415 439 441\n",
      " 457 463 483 487 501 531 537 555 567 587 595]\n"
     ]
    },
    {
     "data": {
      "text/html": [
       "<div>\n",
       "<style scoped>\n",
       "    .dataframe tbody tr th:only-of-type {\n",
       "        vertical-align: middle;\n",
       "    }\n",
       "\n",
       "    .dataframe tbody tr th {\n",
       "        vertical-align: top;\n",
       "    }\n",
       "\n",
       "    .dataframe thead th {\n",
       "        text-align: right;\n",
       "    }\n",
       "</style>\n",
       "<table border=\"1\" class=\"dataframe\">\n",
       "  <thead>\n",
       "    <tr style=\"text-align: right;\">\n",
       "      <th></th>\n",
       "      <th>plotid</th>\n",
       "      <th>Driver</th>\n",
       "      <th>DriverCode</th>\n",
       "    </tr>\n",
       "  </thead>\n",
       "  <tbody>\n",
       "    <tr>\n",
       "      <th>66</th>\n",
       "      <td>9</td>\n",
       "      <td>Forest products</td>\n",
       "      <td>2</td>\n",
       "    </tr>\n",
       "    <tr>\n",
       "      <th>83</th>\n",
       "      <td>11</td>\n",
       "      <td>Fires</td>\n",
       "      <td>6</td>\n",
       "    </tr>\n",
       "    <tr>\n",
       "      <th>111</th>\n",
       "      <td>11</td>\n",
       "      <td>Other disturbances</td>\n",
       "      <td>3</td>\n",
       "    </tr>\n",
       "    <tr>\n",
       "      <th>253</th>\n",
       "      <td>19</td>\n",
       "      <td>Forest products</td>\n",
       "      <td>2</td>\n",
       "    </tr>\n",
       "    <tr>\n",
       "      <th>287</th>\n",
       "      <td>23</td>\n",
       "      <td>Fires</td>\n",
       "      <td>6</td>\n",
       "    </tr>\n",
       "    <tr>\n",
       "      <th>...</th>\n",
       "      <td>...</td>\n",
       "      <td>...</td>\n",
       "      <td>...</td>\n",
       "    </tr>\n",
       "    <tr>\n",
       "      <th>5976</th>\n",
       "      <td>567</td>\n",
       "      <td>Hansen mistake</td>\n",
       "      <td>7</td>\n",
       "    </tr>\n",
       "    <tr>\n",
       "      <th>5977</th>\n",
       "      <td>567</td>\n",
       "      <td>Soft commodities</td>\n",
       "      <td>4</td>\n",
       "    </tr>\n",
       "    <tr>\n",
       "      <th>6108</th>\n",
       "      <td>587</td>\n",
       "      <td>Settlements/infrastructure</td>\n",
       "      <td>5</td>\n",
       "    </tr>\n",
       "    <tr>\n",
       "      <th>6147</th>\n",
       "      <td>595</td>\n",
       "      <td>Forest products</td>\n",
       "      <td>2</td>\n",
       "    </tr>\n",
       "    <tr>\n",
       "      <th>6148</th>\n",
       "      <td>595</td>\n",
       "      <td>Other disturbances</td>\n",
       "      <td>3</td>\n",
       "    </tr>\n",
       "  </tbody>\n",
       "</table>\n",
       "<p>150 rows × 3 columns</p>\n",
       "</div>"
      ],
      "text/plain": [
       "      plotid                      Driver  DriverCode\n",
       "66         9             Forest products           2\n",
       "83        11                       Fires           6\n",
       "111       11          Other disturbances           3\n",
       "253       19             Forest products           2\n",
       "287       23                       Fires           6\n",
       "...      ...                         ...         ...\n",
       "5976     567              Hansen mistake           7\n",
       "5977     567            Soft commodities           4\n",
       "6108     587  Settlements/infrastructure           5\n",
       "6147     595             Forest products           2\n",
       "6148     595          Other disturbances           3\n",
       "\n",
       "[150 rows x 3 columns]"
      ]
     },
     "execution_count": 3,
     "metadata": {},
     "output_type": "execute_result"
    }
   ],
   "source": [
    "#Get plots that have samples that are not labeled\n",
    "notLabeledSamples= samples[~samples.Driver.isin(classes)].copy()\n",
    "notLabeledplotIDs = notLabeledSamples['plotid'].unique()\n",
    "\n",
    "#Get plots that have 'I don't know' and 'In progress'\n",
    "inProgress = ['In progress',\"Don't know\"]\n",
    "inProgressSamples= samples[samples.Driver.isin(inProgress)].copy()\n",
    "print('In progress plots',inProgressSamples.plotid.unique())\n",
    "\n",
    "#Remove those from the samples\n",
    "labeledSamples= samples[~samples.plotid.isin(notLabeledplotIDs)].copy()\n",
    "labeledPlotIDs = labeledSamples['plotid'].unique()\n",
    "print('Labeled plot ids',labeledPlotIDs)\n",
    "\n",
    "#Convert class to code\n",
    "labeledSamples['DriverCode'] = labeledSamples.apply(lambda row: classDict.get(row['Driver']), axis=1)\n",
    "\n",
    "labeledSamples.to_file(labeledSampleFile)\n",
    "\n",
    "#Print some rows\n",
    "labeledSamples[['plotid','Driver','DriverCode']].drop_duplicates()"
   ]
  },
  {
   "cell_type": "code",
   "execution_count": null,
   "metadata": {},
   "outputs": [],
   "source": []
  },
  {
   "cell_type": "code",
   "execution_count": 27,
   "metadata": {},
   "outputs": [
    {
     "name": "stdout",
     "output_type": "stream",
     "text": [
      "[2745873.    3199.   49419.    5359.    6746.    6600.   21295.      37.]\n"
     ]
    }
   ],
   "source": [
    "#Read labeled sample data in ogr\n",
    "\n",
    "tclFileNames = '../inputs/treeCoverLossOverPlots/TCL_Plot_{}.tif'\n",
    "labeledFileNames = '../inputs/labeledTilesValidYears/plot_{}_{}.tif'\n",
    "\n",
    "classValuesWithZero = [0]+classValues\n",
    "classCounts = np.zeros(len([0]+classValues))\n",
    "\n",
    "\n",
    "#Function to rasterize labeled samples\n",
    "def rasterizeClassifications(plotID, tclFile, classifiedFile):\n",
    "    plotSamples = labeledSamples[labeledSamples.plotid == plotID].copy()\n",
    "    outPutLabeledSamples = plotSamples[['DriverCode','geometry']]\n",
    "    outPutLabeledSamples.to_file(temporarySampleFile)\n",
    "    \n",
    "    sampleData = ogr.Open(temporarySampleFile)\n",
    "    sampleLayer = sampleData.GetLayer()\n",
    "    tclData = gdal.Open(tclFile)\n",
    "    tclArray = tclData.ReadAsArray()\n",
    "    geoTransform = tclData.GetGeoTransform()\n",
    "    projection = tclData.GetProjection()\n",
    "    \n",
    "    tclYears = np.unique(tclArray)\n",
    "    tclYears = tclYears[tclYears>0]\n",
    "    for i in tclYears:\n",
    "        tclMask = (tclArray>=i) & (tclArray<=i+2)\n",
    "        if np.sum(tclMask)>0:\n",
    "            year = 2000+i\n",
    "            classifiedFileYear = classifiedFile.format(plotID, year)\n",
    "            \n",
    "            driverTiff = gdal.GetDriverByName(\"GTiff\")\n",
    "            outputDS = driverTiff.Create(classifiedFileYear, tclData.RasterXSize, tclData.RasterYSize, 1, gdal.GDT_Int16)\n",
    "            outputDS.SetGeoTransform(geoTransform)\n",
    "            outputDS.SetProjection(projection)\n",
    "            \n",
    "            gdal.RasterizeLayer(outputDS, [1], sampleLayer, options=['ATTRIBUTE=DriverCode'])\n",
    "            \n",
    "            classifiedData = outputDS.ReadAsArray()\n",
    "            classifiedData[~tclMask] = 0\n",
    "            \n",
    "            outputDS.GetRasterBand(1).WriteArray(classifiedData)\n",
    "            outputDS.GetRasterBand(1).SetNoDataValue(0)\n",
    "            outputDS = None\n",
    "            for i in classValuesWithZero:\n",
    "                classCounts[i] = classCounts[i]+np.sum(classifiedData==int(i))\n",
    "    tclData = None\n",
    "#     #os.remove(temporarySampleFile)\n",
    "[rasterizeClassifications(x, tclFileNames.format(x),labeledFileNames) for x in labeledPlotIDs]\n",
    "print(classCounts)\n"
   ]
  },
  {
   "cell_type": "code",
   "execution_count": 24,
   "metadata": {},
   "outputs": [
    {
     "data": {
      "image/png": "[encoded data removed]",
      "text/plain": [
       "<Figure size 432x288 with 1 Axes>"
      ]
     },
     "metadata": {
      "needs_background": "light"
     },
     "output_type": "display_data"
    }
   ],
   "source": [
    "\n",
    "np.set_printoptions(suppress=True)\n",
    "\n",
    "normClassCountsWithZero = classCounts/np.sum(classCounts)\n",
    "normClassCounts = classCounts[1:]/np.sum(classCounts[1:])\n",
    "classesWithZero = ['No Loss']+classes\n",
    "\n",
    "x_pos = [i for i, _ in enumerate(classesWithZero)]\n",
    "x_pos2 = [i for i, _ in enumerate(classes)]\n",
    "\n",
    "# fig1 = plt.figure()\n",
    "# plt.bar(x_pos, normClassCountsWithZero)\n",
    "# plt.xlabel(\"Driver\")\n",
    "# plt.ylabel(\"Fraction\")\n",
    "# plt.title(\"Training Data\")\n",
    "\n",
    "# plt.xticks(x_pos, classesWithZero, rotation='vertical')\n",
    "\n",
    "# plt.show()\n",
    "\n",
    "fig2 = plt.figure()\n",
    "plt.bar(x_pos2, normClassCounts)\n",
    "plt.xlabel(\"Driver\")\n",
    "plt.ylabel(\"Fraction\")\n",
    "plt.title(\"Training Data\")\n",
    "\n",
    "plt.xticks(x_pos2, classes, rotation='vertical')\n",
    "plt.tight_layout()\n",
    "plt.show()\n",
    "fig2.savefig('/Users/kristine/Desktop/Viz/Cohort1ClassDistribution.png', dpi=800)"
   ]
  },
  {
   "cell_type": "code",
   "execution_count": 25,
   "metadata": {},
   "outputs": [
    {
     "name": "stdout",
     "output_type": "stream",
     "text": [
      "Hard commodities\n",
      "Forest products\n",
      "Other disturbances\n",
      "Soft commodities\n",
      "Settlements/infrastructure\n",
      "Fires\n",
      "Hansen mistake\n"
     ]
    },
    {
     "data": {
      "text/plain": [
       "[None, None, None, None, None, None, None]"
      ]
     },
     "execution_count": 25,
     "metadata": {},
     "output_type": "execute_result"
    }
   ],
   "source": [
    "np.set_printoptions(suppress=True)\n",
    "\n",
    "[print(classes[i]) for i in np.arange(len(classes))]"
   ]
  },
  {
   "cell_type": "code",
   "execution_count": null,
   "metadata": {},
   "outputs": [],
   "source": []
  },
  {
   "cell_type": "code",
   "execution_count": null,
   "metadata": {},
   "outputs": [],
   "source": []
  },
  {
   "cell_type": "code",
   "execution_count": null,
   "metadata": {},
   "outputs": [],
   "source": []
  }
 ],
 "metadata": {
  "kernelspec": {
   "display_name": "Python 3",
   "language": "python",
   "name": "python3"
  },
  "language_info": {
   "codemirror_mode": {
    "name": "ipython",
    "version": 3
   },
   "file_extension": ".py",
   "mimetype": "text/x-python",
   "name": "python",
   "nbconvert_exporter": "python",
   "pygments_lexer": "ipython3",
   "version": "3.9.9"
  }
 },
 "nbformat": 4,
 "nbformat_minor": 4
}
