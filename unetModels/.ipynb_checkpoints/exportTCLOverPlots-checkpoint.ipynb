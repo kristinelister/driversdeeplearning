{
 "cells": [
  {
   "cell_type": "code",
   "execution_count": 2,
   "metadata": {},
   "outputs": [],
   "source": [
    "#Load necessary libraries\n",
    "import sys\n",
    "import os\n",
    "import ee\n",
    "import numpy as np\n",
    "import pandas as pd\n",
    "import time"
   ]
  },
  {
   "cell_type": "code",
   "execution_count": 4,
   "metadata": {},
   "outputs": [
    {
     "data": {
      "text/html": [
       "<p>To authorize access needed by Earth Engine, open the following\n",
       "        URL in a web browser and follow the instructions:</p>\n",
       "        <p><a href=https://accounts.google.com/o/oauth2/auth?client_id=517222506229-vsmmajv00ul0bs7p89v5m89qs8eb9359.apps.googleusercontent.com&scope=https%3A%2F%2Fwww.googleapis.com%2Fauth%2Fearthengine+https%3A%2F%2Fwww.googleapis.com%2Fauth%2Fdevstorage.full_control&redirect_uri=urn%3Aietf%3Awg%3Aoauth%3A2.0%3Aoob&response_type=code&code_challenge=pkWjuGzdRQUFX2FT43L2e1_an9rbc_nHfBg9V70DiB4&code_challenge_method=S256>https://accounts.google.com/o/oauth2/auth?client_id=517222506229-vsmmajv00ul0bs7p89v5m89qs8eb9359.apps.googleusercontent.com&scope=https%3A%2F%2Fwww.googleapis.com%2Fauth%2Fearthengine+https%3A%2F%2Fwww.googleapis.com%2Fauth%2Fdevstorage.full_control&redirect_uri=urn%3Aietf%3Awg%3Aoauth%3A2.0%3Aoob&response_type=code&code_challenge=pkWjuGzdRQUFX2FT43L2e1_an9rbc_nHfBg9V70DiB4&code_challenge_method=S256</a></p>\n",
       "        <p>The authorization workflow will generate a code, which you\n",
       "        should paste in the box below</p>\n",
       "        "
      ],
      "text/plain": [
       "<IPython.core.display.HTML object>"
      ]
     },
     "metadata": {},
     "output_type": "display_data"
    },
    {
     "name": "stdout",
     "output_type": "stream",
     "text": [
      "Enter verification code: 4/1AX4XfWjPoKUNHxZObtrDNNkKI08iukQxnnvaGQiPiphyog3GpMMlatdLeKQ\n",
      "\n",
      "Successfully saved authorization token.\n"
     ]
    }
   ],
   "source": [
    "#Initialize earth engine\n",
    "try:\n",
    "    ee.Initialize()\n",
    "except Exception as e:\n",
    "    ee.Authenticate()\n",
    "    ee.Initialize()\n",
    "    \n",
    "ee.Authenticate()\n",
    "ee.Initialize()"
   ]
  },
  {
   "cell_type": "code",
   "execution_count": 5,
   "metadata": {},
   "outputs": [],
   "source": [
    "#Load plots\n",
    "plots = ee.FeatureCollection('projects/wri-datalab/TSC_DRIVERS/SamplePlots/USA_Cohort_1_2')\n",
    "#Load hansen\n",
    "hansen = ee.Image(\"UMD/hansen/global_forest_change_2020_v1_8\")\n",
    "\n",
    "#Define projection\n",
    "projection_ee = hansen.projection()\n",
    "projection = projection_ee.getInfo()\n",
    "crs = projection.get('crs')\n",
    "crsTransform = projection.get('transform')\n"
   ]
  },
  {
   "cell_type": "code",
   "execution_count": 9,
   "metadata": {},
   "outputs": [
    {
     "name": "stdout",
     "output_type": "stream",
     "text": [
      "[603, 604, 605, 606, 607, 608, 609, 610, 611, 612, 613, 614, 615, 616, 147, 275, 383, 399, 167, 359, 455, 495, 499, 15, 451, 115, 135, 195, 75, 91, 423, 251, 259, 263, 435, 347, 219, 231, 243, 247, 431, 617, 618, 619, 620, 621, 622, 623, 179, 303, 401, 373, 191, 559, 571, 579, 387, 624, 625, 626, 627, 628, 629, 630, 631, 632, 633, 634, 635, 636, 637, 638, 639, 640, 641, 642, 643, 644, 645, 646, 647, 648, 649, 650, 651, 652, 653, 654, 655, 656, 657, 658, 659, 123, 599, 5, 31, 291, 427, 131, 1, 43, 103, 551, 491, 511, 660, 661, 662, 663, 664, 665, 666, 667, 151, 175, 287, 331, 465, 207, 39, 507, 519, 299, 307, 407, 447, 471, 335, 339, 343, 295, 475, 479, 668, 669, 670, 671, 672, 673, 674, 675, 676, 677, 678, 679, 680, 681, 682, 683, 684, 685, 319, 419, 215, 47, 59, 83, 87, 523, 575, 515, 527, 535, 543, 547, 563, 583, 591]\n"
     ]
    }
   ],
   "source": [
    "#Clip hansen to plots\n",
    "hansenClipped = hansen.clipToCollection(plots)\n",
    "\n",
    "#Get plotIds from the feature collection\n",
    "plotIds = plots.aggregate_array('PLOTID').getInfo()\n",
    "print(plotIds)\n",
    "\n",
    "#Loop over plots and export TCL\n",
    "for plotId in plotIds:\n",
    "    #get plot\n",
    "    plot = plots.filterMetadata('PLOTID','equals',plotId).first()\n",
    "    #export\n",
    "    exportTask = ee.batch.Export.image.toDrive(\n",
    "                    image=hansen.select('lossyear'), \n",
    "                    description = 'TCL_{}'.format(plotId), \n",
    "                    folder = 'TreeCoverLossOverPlots',\n",
    "                    fileNamePrefix = 'TCL_Plot_{}'.format(plotId),\n",
    "                    region = plot.geometry(),\n",
    "                    crs = crs,\n",
    "                    dimensions='64x64', #make sure its 64x64\n",
    "                    crsTransform= crsTransform,\n",
    "                    maxPixels = 1e13)\n",
    "    exportTask.start()\n",
    "\n"
   ]
  },
  {
   "cell_type": "code",
   "execution_count": 10,
   "metadata": {},
   "outputs": [
    {
     "name": "stdout",
     "output_type": "stream",
     "text": [
      "Polling for task (id: IVVW7USMSBUHL4W23PMK5QOE).\n",
      "Polling for task (id: IVVW7USMSBUHL4W23PMK5QOE).\n",
      "Polling for task (id: IVVW7USMSBUHL4W23PMK5QOE).\n",
      "Polling for task (id: IVVW7USMSBUHL4W23PMK5QOE).\n",
      "Polling for task (id: IVVW7USMSBUHL4W23PMK5QOE).\n",
      "Polling for task (id: IVVW7USMSBUHL4W23PMK5QOE).\n",
      "Polling for task (id: IVVW7USMSBUHL4W23PMK5QOE).\n",
      "Polling for task (id: IVVW7USMSBUHL4W23PMK5QOE).\n",
      "Polling for task (id: IVVW7USMSBUHL4W23PMK5QOE).\n",
      "Polling for task (id: IVVW7USMSBUHL4W23PMK5QOE).\n",
      "Polling for task (id: IVVW7USMSBUHL4W23PMK5QOE).\n",
      "Polling for task (id: IVVW7USMSBUHL4W23PMK5QOE).\n",
      "Polling for task (id: IVVW7USMSBUHL4W23PMK5QOE).\n",
      "Polling for task (id: IVVW7USMSBUHL4W23PMK5QOE).\n",
      "Polling for task (id: IVVW7USMSBUHL4W23PMK5QOE).\n",
      "Polling for task (id: IVVW7USMSBUHL4W23PMK5QOE).\n",
      "Polling for task (id: IVVW7USMSBUHL4W23PMK5QOE).\n",
      "Polling for task (id: IVVW7USMSBUHL4W23PMK5QOE).\n",
      "Polling for task (id: IVVW7USMSBUHL4W23PMK5QOE).\n",
      "Polling for task (id: IVVW7USMSBUHL4W23PMK5QOE).\n",
      "Polling for task (id: IVVW7USMSBUHL4W23PMK5QOE).\n",
      "Polling for task (id: IVVW7USMSBUHL4W23PMK5QOE).\n",
      "Polling for task (id: IVVW7USMSBUHL4W23PMK5QOE).\n",
      "Polling for task (id: IVVW7USMSBUHL4W23PMK5QOE).\n",
      "Polling for task (id: IVVW7USMSBUHL4W23PMK5QOE).\n",
      "Polling for task (id: IVVW7USMSBUHL4W23PMK5QOE).\n",
      "Polling for task (id: IVVW7USMSBUHL4W23PMK5QOE).\n",
      "Polling for task (id: IVVW7USMSBUHL4W23PMK5QOE).\n",
      "Polling for task (id: IVVW7USMSBUHL4W23PMK5QOE).\n",
      "Polling for task (id: IVVW7USMSBUHL4W23PMK5QOE).\n",
      "Polling for task (id: IVVW7USMSBUHL4W23PMK5QOE).\n",
      "Polling for task (id: IVVW7USMSBUHL4W23PMK5QOE).\n",
      "Polling for task (id: IVVW7USMSBUHL4W23PMK5QOE).\n",
      "Polling for task (id: IVVW7USMSBUHL4W23PMK5QOE).\n",
      "Polling for task (id: IVVW7USMSBUHL4W23PMK5QOE).\n",
      "Polling for task (id: IVVW7USMSBUHL4W23PMK5QOE).\n",
      "Polling for task (id: IVVW7USMSBUHL4W23PMK5QOE).\n",
      "Polling for task (id: IVVW7USMSBUHL4W23PMK5QOE).\n",
      "Polling for task (id: IVVW7USMSBUHL4W23PMK5QOE).\n",
      "Polling for task (id: IVVW7USMSBUHL4W23PMK5QOE).\n",
      "Polling for task (id: IVVW7USMSBUHL4W23PMK5QOE).\n",
      "Polling for task (id: IVVW7USMSBUHL4W23PMK5QOE).\n",
      "Polling for task (id: IVVW7USMSBUHL4W23PMK5QOE).\n",
      "Done with export.\n"
     ]
    }
   ],
   "source": [
    "#Wait for export to finish\n",
    "while exportTask.active():\n",
    "    print('Polling for task (id: {}).'.format(exportTask.id))\n",
    "    time.sleep(30)\n",
    "print('Done with export.')"
   ]
  },
  {
   "cell_type": "code",
   "execution_count": null,
   "metadata": {},
   "outputs": [],
   "source": []
  }
 ],
 "metadata": {
  "kernelspec": {
   "display_name": "Python 3",
   "language": "python",
   "name": "python3"
  },
  "language_info": {
   "codemirror_mode": {
    "name": "ipython",
    "version": 3
   },
   "file_extension": ".py",
   "mimetype": "text/x-python",
   "name": "python",
   "nbconvert_exporter": "python",
   "pygments_lexer": "ipython3",
   "version": "3.9.9"
  }
 },
 "nbformat": 4,
 "nbformat_minor": 4
}
