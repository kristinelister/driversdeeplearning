{
 "cells": [
  {
   "cell_type": "code",
   "execution_count": 5,
   "metadata": {},
   "outputs": [],
   "source": [
    "#imports\n",
    "import pandas as pd\n",
    "import numpy as np\n",
    "import geopandas as gpd\n",
    "from shapely import wkt\n",
    "import glob\n",
    "from osgeo import gdal, ogr\n",
    "import os\n",
    "import matplotlib.pyplot as plt\n"
   ]
  },
  {
   "cell_type": "code",
   "execution_count": 6,
   "metadata": {},
   "outputs": [
    {
     "name": "stdout",
     "output_type": "stream",
     "text": [
      "['Forest products' 'Settlements/infrastructure' 'Soft commodities'\n",
      " 'Hansen mistake' 'Fires' 'Other disturbances' None 'Hard commodities'\n",
      " 'In progress']\n"
     ]
    }
   ],
   "source": [
    "#Load samples and plots\n",
    "samples = gpd.read_file('../inputs/plots/samples.shp')\n",
    "\n",
    "#Define temporary file to save as an intermediant product\n",
    "temporarySampleFile = '../inputs/plots/tempLabeledSamples.shp'\n",
    "\n",
    "#Define output labeled samples filtered to remove plots with any Don't Know's and In progress\n",
    "labeledSampleFile = '../inputs/plots/labeledSamples.shp'\n",
    "\n",
    "#Define column with label\n",
    "labelColumn = 'What is th'\n",
    "\n",
    "#Define classes and codes\n",
    "classes = ['Hard commodities', 'Forest products', 'Other disturbances',\n",
    "                'Soft commodities', 'Settlements/infrastructure', 'Fires','Hansen mistake']\n",
    "classValues = [1,2,3,4,5,6,7]\n",
    "classDict = dict(zip(classes,classValues))\n",
    "\n",
    "samples['Driver'] = samples[labelColumn]\n",
    "\n",
    "print(samples.Driver.unique())"
   ]
  },
  {
   "cell_type": "code",
   "execution_count": 7,
   "metadata": {},
   "outputs": [
    {
     "name": "stdout",
     "output_type": "stream",
     "text": [
      "In progress plots [135 151 191 307 359 451 465 471 527 579]\n",
      "Labeled plot ids [  1   5   9  11  15  19  23  27  35  39  43  51  55  63  67  71  79  83\n",
      "  87  95  99 103 107 111 119 127 131 137 143 155 159 163 171 175 179 183\n",
      " 187 195 199 203 211 215 219 223 227 231 235 239 243 255 259 263 267 271\n",
      " 275 279 283 287 299 303 311 315 319 323 327 331 339 343 347 351 355 363\n",
      " 365 371 379 383 387 391 395 401 407 411 415 427 431 435 439 441 455 457\n",
      " 463 475 479 483 487 491 495 499 501 507 519 523 531 537 547 555 559 567\n",
      " 571 575 583 587 591 595 599 603 604 605 607 609 611 612 613 614 615 617\n",
      " 618 619 620 621 622 623 624 625 626 627 628 630 635 637 638 639 640 647\n",
      " 648 649 650 651 653 654 655 658 659 660 661 662 663 664 665 666 667 670\n",
      " 671 673 674 676 678 679 681 682 683 685]\n"
     ]
    },
    {
     "data": {
      "text/html": [
       "<div>\n",
       "<style scoped>\n",
       "    .dataframe tbody tr th:only-of-type {\n",
       "        vertical-align: middle;\n",
       "    }\n",
       "\n",
       "    .dataframe tbody tr th {\n",
       "        vertical-align: top;\n",
       "    }\n",
       "\n",
       "    .dataframe thead th {\n",
       "        text-align: right;\n",
       "    }\n",
       "</style>\n",
       "<table border=\"1\" class=\"dataframe\">\n",
       "  <thead>\n",
       "    <tr style=\"text-align: right;\">\n",
       "      <th></th>\n",
       "      <th>plotid</th>\n",
       "      <th>Driver</th>\n",
       "      <th>DriverCode</th>\n",
       "    </tr>\n",
       "  </thead>\n",
       "  <tbody>\n",
       "    <tr>\n",
       "      <th>0</th>\n",
       "      <td>1</td>\n",
       "      <td>Forest products</td>\n",
       "      <td>2</td>\n",
       "    </tr>\n",
       "    <tr>\n",
       "      <th>38</th>\n",
       "      <td>5</td>\n",
       "      <td>Forest products</td>\n",
       "      <td>2</td>\n",
       "    </tr>\n",
       "    <tr>\n",
       "      <th>39</th>\n",
       "      <td>5</td>\n",
       "      <td>Settlements/infrastructure</td>\n",
       "      <td>5</td>\n",
       "    </tr>\n",
       "    <tr>\n",
       "      <th>41</th>\n",
       "      <td>5</td>\n",
       "      <td>Soft commodities</td>\n",
       "      <td>4</td>\n",
       "    </tr>\n",
       "    <tr>\n",
       "      <th>53</th>\n",
       "      <td>5</td>\n",
       "      <td>Hansen mistake</td>\n",
       "      <td>7</td>\n",
       "    </tr>\n",
       "    <tr>\n",
       "      <th>...</th>\n",
       "      <td>...</td>\n",
       "      <td>...</td>\n",
       "      <td>...</td>\n",
       "    </tr>\n",
       "    <tr>\n",
       "      <th>9819</th>\n",
       "      <td>682</td>\n",
       "      <td>Soft commodities</td>\n",
       "      <td>4</td>\n",
       "    </tr>\n",
       "    <tr>\n",
       "      <th>9852</th>\n",
       "      <td>682</td>\n",
       "      <td>Forest products</td>\n",
       "      <td>2</td>\n",
       "    </tr>\n",
       "    <tr>\n",
       "      <th>9854</th>\n",
       "      <td>683</td>\n",
       "      <td>Forest products</td>\n",
       "      <td>2</td>\n",
       "    </tr>\n",
       "    <tr>\n",
       "      <th>9893</th>\n",
       "      <td>685</td>\n",
       "      <td>Forest products</td>\n",
       "      <td>2</td>\n",
       "    </tr>\n",
       "    <tr>\n",
       "      <th>9899</th>\n",
       "      <td>685</td>\n",
       "      <td>Settlements/infrastructure</td>\n",
       "      <td>5</td>\n",
       "    </tr>\n",
       "  </tbody>\n",
       "</table>\n",
       "<p>362 rows × 3 columns</p>\n",
       "</div>"
      ],
      "text/plain": [
       "      plotid                      Driver  DriverCode\n",
       "0          1             Forest products           2\n",
       "38         5             Forest products           2\n",
       "39         5  Settlements/infrastructure           5\n",
       "41         5            Soft commodities           4\n",
       "53         5              Hansen mistake           7\n",
       "...      ...                         ...         ...\n",
       "9819     682            Soft commodities           4\n",
       "9852     682             Forest products           2\n",
       "9854     683             Forest products           2\n",
       "9893     685             Forest products           2\n",
       "9899     685  Settlements/infrastructure           5\n",
       "\n",
       "[362 rows x 3 columns]"
      ]
     },
     "execution_count": 7,
     "metadata": {},
     "output_type": "execute_result"
    }
   ],
   "source": [
    "#Get plots that have samples that are not labeled\n",
    "notLabeledSamples= samples[~samples.Driver.isin(classes)].copy()\n",
    "notLabeledplotIDs = notLabeledSamples['plotid'].unique()\n",
    "\n",
    "#Get plots that have 'I don't know' and 'In progress'\n",
    "inProgress = ['In progress',\"Don't know\"]\n",
    "inProgressSamples= samples[samples.Driver.isin(inProgress)].copy()\n",
    "print('In progress plots',inProgressSamples.plotid.unique())\n",
    "\n",
    "#Remove those from the samples\n",
    "labeledSamples= samples[~samples.plotid.isin(notLabeledplotIDs)].copy()\n",
    "labeledPlotIDs = labeledSamples['plotid'].unique()\n",
    "print('Labeled plot ids',labeledPlotIDs)\n",
    "\n",
    "#Convert class to code\n",
    "labeledSamples['DriverCode'] = labeledSamples.apply(lambda row: classDict.get(row['Driver']), axis=1)\n",
    "\n",
    "labeledSamples.to_file(labeledSampleFile)\n",
    "\n",
    "#Print some rows\n",
    "labeledSamples[['plotid','Driver','DriverCode']].drop_duplicates()"
   ]
  },
  {
   "cell_type": "code",
   "execution_count": null,
   "metadata": {},
   "outputs": [],
   "source": []
  },
  {
   "cell_type": "code",
   "execution_count": 8,
   "metadata": {},
   "outputs": [
    {
     "name": "stdout",
     "output_type": "stream",
     "text": [
      "[6.983564e+06 1.690500e+04 1.132930e+05 2.488100e+04 1.314400e+04\n",
      " 1.374100e+04 3.879000e+04 5.460000e+02]\n"
     ]
    }
   ],
   "source": [
    "#File names\n",
    "tclFileNames = '../inputs/treeCoverLossOverPlots/TCL_Plot_{}.tif'\n",
    "labeledFileNames = '../inputs/labeledTilesValidYears/plot_{}_{}.tif'\n",
    "\n",
    "#Define counts to keep track of frequency of classes\n",
    "classValuesWithZero = [0]+classValues\n",
    "classCounts = np.zeros(len([0]+classValues))\n",
    "\n",
    "\n",
    "#Function to rasterize labeled samples\n",
    "def rasterizeClassifications(plotID, tclFile, classifiedFile):\n",
    "    #Get samples within plotID\n",
    "    plotSamples = labeledSamples[labeledSamples.plotid == plotID].copy()\n",
    "    #Save to temporary file\n",
    "    outPutLabeledSamples = plotSamples[['DriverCode','geometry']]\n",
    "    outPutLabeledSamples.to_file(temporarySampleFile)\n",
    "    \n",
    "    #Open temporary file\n",
    "    sampleData = ogr.Open(temporarySampleFile)\n",
    "    sampleLayer = sampleData.GetLayer()\n",
    "    \n",
    "    #Get TCL data\n",
    "    tclData = gdal.Open(tclFile)\n",
    "    tclArray = tclData.ReadAsArray()\n",
    "    geoTransform = tclData.GetGeoTransform()\n",
    "    projection = tclData.GetProjection()\n",
    "    \n",
    "    #Get TCL years\n",
    "    tclYears = np.unique(tclArray)\n",
    "    tclYears = tclYears[tclYears>0]\n",
    "    \n",
    "    #Loop over TCL years\n",
    "    for i in tclYears:\n",
    "        if np.sum(tclArray==i)>0:\n",
    "            #Get year as 2001 instead of 1\n",
    "            year = 2000+i\n",
    "            \n",
    "            #Get output name\n",
    "            classifiedFileYear = classifiedFile.format(plotID, year)\n",
    "            \n",
    "            #Create output tiff file with projection\n",
    "            driverTiff = gdal.GetDriverByName(\"GTiff\")\n",
    "            outputDS = driverTiff.Create(classifiedFileYear, tclData.RasterXSize, tclData.RasterYSize, 1, gdal.GDT_Int16)\n",
    "            outputDS.SetGeoTransform(geoTransform)\n",
    "            outputDS.SetProjection(projection)\n",
    "            \n",
    "            #Rasterize shapefile\n",
    "            gdal.RasterizeLayer(outputDS, [1], sampleLayer, options=['ATTRIBUTE=DriverCode'])\n",
    "            \n",
    "            #Mask to tree cover loss for this eyar\n",
    "            classifiedData = outputDS.ReadAsArray()\n",
    "            classifiedData[tclArray!=i] = 0\n",
    "            outputDS.GetRasterBand(1).WriteArray(classifiedData)\n",
    "            outputDS.GetRasterBand(1).SetNoDataValue(0)\n",
    "            outputDS = None\n",
    "            \n",
    "            #keep track of class counts\n",
    "            for i in classValuesWithZero:\n",
    "                classCounts[i] = classCounts[i]+np.sum(classifiedData==int(i))\n",
    "    tclData = None\n",
    "    \n",
    "#Loop through plotIDs\n",
    "[rasterizeClassifications(x, tclFileNames.format(x),labeledFileNames) for x in labeledPlotIDs]\n",
    "os.remove(temporarySampleFile)\n",
    "\n"
   ]
  },
  {
   "cell_type": "code",
   "execution_count": 9,
   "metadata": {},
   "outputs": [
    {
     "data": {
      "image/png": "[encoded data removed]",
      "text/plain": [
       "<Figure size 432x288 with 1 Axes>"
      ]
     },
     "metadata": {
      "needs_background": "light"
     },
     "output_type": "display_data"
    }
   ],
   "source": [
    "#Print class totals\n",
    "np.set_printoptions(suppress=True)\n",
    "\n",
    "normClassCountsWithZero = classCounts/np.sum(classCounts)\n",
    "normClassCounts = classCounts[1:]/np.sum(classCounts[1:])\n",
    "classesWithZero = ['No Loss']+classes\n",
    "\n",
    "x_pos = [i for i, _ in enumerate(classesWithZero)]\n",
    "x_pos2 = [i for i, _ in enumerate(classes)]\n",
    "\n",
    "# fig1 = plt.figure()\n",
    "# plt.bar(x_pos, normClassCountsWithZero)\n",
    "# plt.xlabel(\"Driver\")\n",
    "# plt.ylabel(\"Fraction\")\n",
    "# plt.title(\"Training Data\")\n",
    "\n",
    "# plt.xticks(x_pos, classesWithZero, rotation='vertical')\n",
    "\n",
    "# plt.show()\n",
    "\n",
    "fig2 = plt.figure()\n",
    "plt.bar(x_pos2, normClassCounts)\n",
    "plt.xlabel(\"Driver\")\n",
    "plt.ylabel(\"Fraction\")\n",
    "plt.title(\"Training Data\")\n",
    "\n",
    "plt.xticks(x_pos2, classes, rotation='vertical')\n",
    "plt.tight_layout()\n",
    "plt.show()\n",
    "fig2.savefig('/Users/kristine/Desktop/Viz/Cohort1ClassDistribution.png', dpi=800)"
   ]
  },
  {
   "cell_type": "code",
   "execution_count": 11,
   "metadata": {},
   "outputs": [
    {
     "name": "stdout",
     "output_type": "stream",
     "text": [
      "Hard commodities 0.07638951649344781\n",
      "Forest products 0.5119430637144148\n",
      "Other disturbances 0.11243108901943064\n",
      "Soft commodities 0.05939448712155445\n",
      "Settlements/infrastructure 0.062092182557614096\n",
      "Fires 0.1752824220515138\n",
      "Hansen mistake 0.0024672390420244013\n"
     ]
    },
    {
     "data": {
      "text/plain": [
       "[None, None, None, None, None, None, None]"
      ]
     },
     "execution_count": 11,
     "metadata": {},
     "output_type": "execute_result"
    }
   ],
   "source": [
    "np.set_printoptions(suppress=True)\n",
    "\n",
    "[print(classes[i], normClassCounts[i]) for i in np.arange(len(classes))]"
   ]
  },
  {
   "cell_type": "code",
   "execution_count": null,
   "metadata": {},
   "outputs": [],
   "source": []
  },
  {
   "cell_type": "code",
   "execution_count": null,
   "metadata": {},
   "outputs": [],
   "source": []
  },
  {
   "cell_type": "code",
   "execution_count": null,
   "metadata": {},
   "outputs": [],
   "source": []
  }
 ],
 "metadata": {
  "kernelspec": {
   "display_name": "Python 3",
   "language": "python",
   "name": "python3"
  },
  "language_info": {
   "codemirror_mode": {
    "name": "ipython",
    "version": 3
   },
   "file_extension": ".py",
   "mimetype": "text/x-python",
   "name": "python",
   "nbconvert_exporter": "python",
   "pygments_lexer": "ipython3",
   "version": "3.9.9"
  }
 },
 "nbformat": 4,
 "nbformat_minor": 4
}
